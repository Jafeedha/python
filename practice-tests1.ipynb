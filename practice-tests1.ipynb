{
  "nbformat": 4,
  "nbformat_minor": 0,
  "metadata": {
    "colab": {
      "provenance": []
    },
    "kernelspec": {
      "name": "python3",
      "display_name": "Python 3"
    },
    "language_info": {
      "name": "python"
    }
  },
  "cells": [
    {
      "cell_type": "markdown",
      "source": [
        "1.Program to find Area of a circle"
      ],
      "metadata": {
        "id": "XXrA1zIp9sL2"
      }
    },
    {
      "cell_type": "code",
      "source": [
        "import math"
      ],
      "metadata": {
        "id": "MzqWjpPtC04A"
      },
      "execution_count": null,
      "outputs": []
    },
    {
      "cell_type": "code",
      "source": [
        "math.pi"
      ],
      "metadata": {
        "colab": {
          "base_uri": "https://localhost:8080/"
        },
        "id": "_wMNqKAFC0zl",
        "outputId": "27134b29-832d-48c4-d586-d26f00e43386"
      },
      "execution_count": null,
      "outputs": [
        {
          "output_type": "execute_result",
          "data": {
            "text/plain": [
              "3.141592653589793"
            ]
          },
          "metadata": {},
          "execution_count": 13
        }
      ]
    },
    {
      "cell_type": "code",
      "source": [
        "radius = float(input(\"Enter the radius=\"))\n",
        "area =(math.pi*radius**2)\n",
        "print(\"Area of the circle is\",area)"
      ],
      "metadata": {
        "colab": {
          "base_uri": "https://localhost:8080/"
        },
        "id": "etTiE_o6DZZV",
        "outputId": "daeaeb67-bb89-4ad2-ce81-6e497f114094"
      },
      "execution_count": null,
      "outputs": [
        {
          "output_type": "stream",
          "name": "stdout",
          "text": [
            "Enter the radius=3\n",
            "Area of the circle is 28.274333882308138\n"
          ]
        }
      ]
    },
    {
      "cell_type": "markdown",
      "source": [
        "2.program to accept student details"
      ],
      "metadata": {
        "id": "pEG922xfKPC2"
      }
    },
    {
      "cell_type": "code",
      "source": [
        "Name=(input(\"Enter your name:\"))\n",
        "Roll_number = (input(\"Enter your roll number:\"))\n",
        "Mark = (input(\"Enter your mark:\"))\n",
        "print(\"Name = \",Name)\n",
        "print(\"Roll number = \", Roll_number)\n",
        "print(\"Mark =\", Mark)"
      ],
      "metadata": {
        "colab": {
          "base_uri": "https://localhost:8080/"
        },
        "id": "OaFnc8AcKtrn",
        "outputId": "5842abe0-b3c9-4f2d-9aaa-1793b57ac61f"
      },
      "execution_count": null,
      "outputs": [
        {
          "output_type": "stream",
          "name": "stdout",
          "text": [
            "Enter your name:Anisha\n",
            "Enter your roll number:21\n",
            "Enter your mark:78\n",
            "Name =  Anisha\n",
            "Roll number =  21\n",
            "Mark = 78\n"
          ]
        }
      ]
    },
    {
      "cell_type": "code",
      "source": [],
      "metadata": {
        "id": "8mHEN8guPbXV"
      },
      "execution_count": null,
      "outputs": []
    },
    {
      "cell_type": "markdown",
      "source": [
        "3.program to get largest number from list\n"
      ],
      "metadata": {
        "id": "z7Tv8iTiPKH5"
      }
    },
    {
      "cell_type": "code",
      "source": [
        "list1 = [12,3,47,10]\n",
        "\n",
        "largest = 0\n",
        "\n",
        "for x in list1:\n",
        "  if x > largest:\n",
        "     largest = x\n",
        "print(largest)\n",
        "\n"
      ],
      "metadata": {
        "colab": {
          "base_uri": "https://localhost:8080/"
        },
        "id": "Xoamv47bPmbW",
        "outputId": "d1024697-5ee2-4425-ed58-4d7d9e3162c8"
      },
      "execution_count": null,
      "outputs": [
        {
          "output_type": "stream",
          "name": "stdout",
          "text": [
            "47\n"
          ]
        }
      ]
    },
    {
      "cell_type": "markdown",
      "source": [
        "4.Given a range of first 10 numbers ,program to iterate from start number to the end number and print the sum of current number and previous number\n"
      ],
      "metadata": {
        "id": "deyTLWcKX9tu"
      }
    },
    {
      "cell_type": "code",
      "source": [
        "list1 = range(11)\n",
        "sum=0\n",
        "previous_num= 0\n",
        "for x in list1:\n",
        "   sum=previous_num + x\n",
        "   print(\"previous number\",previous_num, \"+\", \"current number \", x , \" = \" ,\"sum =\",sum)\n",
        "   previous_num = x\n",
        "\n",
        "\n"
      ],
      "metadata": {
        "colab": {
          "base_uri": "https://localhost:8080/"
        },
        "id": "Sv9q8MChiVTp",
        "outputId": "cd5d3bcc-735d-495f-9a96-5cd511a0d76e"
      },
      "execution_count": null,
      "outputs": [
        {
          "output_type": "stream",
          "name": "stdout",
          "text": [
            "previous number 0 + current number  0  =  sum = 0\n",
            "previous number 0 + current number  1  =  sum = 1\n",
            "previous number 1 + current number  2  =  sum = 3\n",
            "previous number 2 + current number  3  =  sum = 5\n",
            "previous number 3 + current number  4  =  sum = 7\n",
            "previous number 4 + current number  5  =  sum = 9\n",
            "previous number 5 + current number  6  =  sum = 11\n",
            "previous number 6 + current number  7  =  sum = 13\n",
            "previous number 7 + current number  8  =  sum = 15\n",
            "previous number 8 + current number  9  =  sum = 17\n",
            "previous number 9 + current number  10  =  sum = 19\n"
          ]
        }
      ]
    },
    {
      "cell_type": "markdown",
      "source": [
        "5.program to print only numbers divisible by5"
      ],
      "metadata": {
        "id": "B71GaLqy_ebh"
      }
    },
    {
      "cell_type": "code",
      "source": [
        "list1 = [10,20,33,46,55]\n",
        "for x in list1:\n",
        " if x%5 == 0:\n",
        "  print(x)"
      ],
      "metadata": {
        "colab": {
          "base_uri": "https://localhost:8080/"
        },
        "id": "6bAcY_TF_tfS",
        "outputId": "d038dbe9-747b-43c1-b13a-75d5cc6f8a98"
      },
      "execution_count": 31,
      "outputs": [
        {
          "output_type": "stream",
          "name": "stdout",
          "text": [
            "10\n",
            "20\n",
            "55\n"
          ]
        }
      ]
    },
    {
      "cell_type": "markdown",
      "source": [
        "6.program to check whether a number is prime or not\n"
      ],
      "metadata": {
        "id": "oXRUyyzjEX5d"
      }
    },
    {
      "cell_type": "code",
      "source": [
        " num = int(input(\"enter a number:\"))\n",
        "for test in range(2,num//2+1):\n",
        "    if num%test == 0:\n",
        "     print(\"not prime\")\n",
        "     break\n",
        " else:\n",
        "  print(\"prime\")\n",
        "\n"
      ],
      "metadata": {
        "colab": {
          "base_uri": "https://localhost:8080/"
        },
        "id": "fGssYsnWN0ts",
        "outputId": "203f08ec-98c6-495d-f8e8-27cb6a7085b7"
      },
      "execution_count": null,
      "outputs": [
        {
          "output_type": "stream",
          "name": "stdout",
          "text": [
            "enter a number:7\n",
            "prime\n"
          ]
        }
      ]
    },
    {
      "cell_type": "markdown",
      "source": [
        "7.program to reverse a list using loop\n"
      ],
      "metadata": {
        "id": "fRDGcaG3k-z5"
      }
    },
    {
      "cell_type": "code",
      "source": [
        "list1 = [10,40,30,7]\n",
        "list2 = []\n",
        "for i in range(len(list1)):\n",
        "  list2.append(list1[len(list1)-i-1])\n",
        "print(list2)\n",
        "\n"
      ],
      "metadata": {
        "colab": {
          "base_uri": "https://localhost:8080/"
        },
        "id": "bc5xyuUslTaw",
        "outputId": "40694e19-d704-454c-cc38-b283bfd98376"
      },
      "execution_count": 27,
      "outputs": [
        {
          "output_type": "stream",
          "name": "stdout",
          "text": [
            "[7, 30, 40, 10]\n"
          ]
        }
      ]
    },
    {
      "cell_type": "markdown",
      "source": [
        "8.program to print given pattern"
      ],
      "metadata": {
        "id": "E_0kinNGDSpi"
      }
    },
    {
      "cell_type": "code",
      "source": [
        "n=4\n",
        "for i in range(0,n):\n",
        "  for j in range(0,i+1):\n",
        "    print(\"*\",end=\"\")\n",
        "  print()\n",
        "\n"
      ],
      "metadata": {
        "colab": {
          "base_uri": "https://localhost:8080/"
        },
        "id": "K1o2nilXEWDc",
        "outputId": "3bef7e88-6a88-4b84-9597-fcfea73e7846"
      },
      "execution_count": 1,
      "outputs": [
        {
          "output_type": "stream",
          "name": "stdout",
          "text": [
            "*\n",
            "**\n",
            "***\n",
            "****\n"
          ]
        }
      ]
    },
    {
      "cell_type": "markdown",
      "source": [
        "8.write a python program to find maximum of three numbers"
      ],
      "metadata": {
        "id": "9bMNuqYxsxbj"
      }
    },
    {
      "cell_type": "code",
      "source": [
        "a=34\n",
        "b=12\n",
        "c=7\n",
        "if(a > b):\n",
        "   if(a > c):\n",
        "     print(a)\n",
        "   else:\n",
        "     print(c)\n",
        "else:\n",
        "  if(b > c):\n",
        "    print(b)\n",
        "  else:\n",
        "    print(c)\n",
        "\n",
        "\n",
        ""
      ],
      "metadata": {
        "id": "qwU-fjxUtRuQ",
        "outputId": "8a66134d-731a-4001-e220-152bf7e540df",
        "colab": {
          "base_uri": "https://localhost:8080/"
        }
      },
      "execution_count": 15,
      "outputs": [
        {
          "output_type": "stream",
          "name": "stdout",
          "text": [
            "34\n"
          ]
        }
      ]
    },
    {
      "cell_type": "markdown",
      "source": [
        "10.python program to construct given pattern using nested loop"
      ],
      "metadata": {
        "id": "lldIeU2P1Wld"
      }
    },
    {
      "cell_type": "code",
      "source": [
        "n=5\n",
        "for i in range(0,n):\n",
        "  for j in range(0,i+1):\n",
        "     print(\"*\",end=\"\")\n",
        "  print()\n",
        "for i in range(n-1,0,-1):\n",
        "  for j in range(i):\n",
        "    print(\"*\",end=\"\")\n",
        "  print()\n",
        "\n"
      ],
      "metadata": {
        "id": "bKGfH0X21n9-",
        "outputId": "2517a5db-14e3-4740-cf6e-3cb26133e70b",
        "colab": {
          "base_uri": "https://localhost:8080/"
        }
      },
      "execution_count": 34,
      "outputs": [
        {
          "output_type": "stream",
          "name": "stdout",
          "text": [
            "*\n",
            "**\n",
            "***\n",
            "****\n",
            "*****\n",
            "****\n",
            "***\n",
            "**\n",
            "*\n"
          ]
        }
      ]
    }
  ]
}