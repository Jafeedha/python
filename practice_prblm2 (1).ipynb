{
  "nbformat": 4,
  "nbformat_minor": 0,
  "metadata": {
    "colab": {
      "provenance": []
    },
    "kernelspec": {
      "name": "python3",
      "display_name": "Python 3"
    },
    "language_info": {
      "name": "python"
    }
  },
  "cells": [
    {
      "cell_type": "markdown",
      "source": [
        "1.string value and its character count"
      ],
      "metadata": {
        "id": "ATxEfoycFhwY"
      }
    },
    {
      "cell_type": "code",
      "execution_count": null,
      "metadata": {
        "colab": {
          "base_uri": "https://localhost:8080/"
        },
        "id": "VsVBmHv0Unj1",
        "outputId": "281bec4e-23de-46db-92a9-ebaffb259ab2"
      },
      "outputs": [
        {
          "output_type": "stream",
          "name": "stdout",
          "text": [
            "enter a word:assembly\n",
            "{'a': 1, 's': 2, 'e': 1, 'm': 1, 'b': 1, 'l': 1, 'y': 1}\n"
          ]
        }
      ],
      "source": [
        "word = input(\"enter a word:\")\n",
        "i=0;\n",
        "char_count = {}\n",
        "while i<len(word):\n",
        "\n",
        "  if word[i] in char_count:\n",
        "      char_count[word[i]] = char_count[word[i]] + 1\n",
        "  else:\n",
        "     char_count[word[i]] = 1\n",
        "  i=i+1\n",
        "print(char_count)"
      ]
    },
    {
      "cell_type": "markdown",
      "source": [
        "2.Maximum of three numbers\n"
      ],
      "metadata": {
        "id": "M00r3TlxGC_h"
      }
    },
    {
      "cell_type": "code",
      "source": [
        "def maximum(a,b,c):\n",
        "  if (a >= b) and (a >= c):\n",
        "    largest = a\n",
        "  elif (b >= a) and (b >= c):\n",
        "    largest = b\n",
        "  else:\n",
        "    largest = c\n",
        "  return largest\n",
        "maximum(34,1267,7)"
      ],
      "metadata": {
        "colab": {
          "base_uri": "https://localhost:8080/"
        },
        "id": "3jamyibWGSYM",
        "outputId": "619f0f15-ac4c-4cd9-8cdf-eff291ca444e"
      },
      "execution_count": null,
      "outputs": [
        {
          "output_type": "execute_result",
          "data": {
            "text/plain": [
              "1267"
            ]
          },
          "metadata": {},
          "execution_count": 80
        }
      ]
    },
    {
      "cell_type": "markdown",
      "source": [
        "3.exponent function"
      ],
      "metadata": {
        "id": "x_LbnGjQIvuc"
      }
    },
    {
      "cell_type": "code",
      "source": [
        "def power(a,b):\n",
        "     if(a == 1):\n",
        "       return (b)\n",
        "     if(a != b) or (a == b):\n",
        "       return a**b\n",
        "power(3,3)\n",
        "\n",
        "\n",
        "\n",
        "\n"
      ],
      "metadata": {
        "colab": {
          "base_uri": "https://localhost:8080/"
        },
        "id": "Q85r6KqnI5mB",
        "outputId": "50524894-d02b-47ce-9da6-e314262ec160"
      },
      "execution_count": null,
      "outputs": [
        {
          "output_type": "execute_result",
          "data": {
            "text/plain": [
              "27"
            ]
          },
          "metadata": {},
          "execution_count": 2
        }
      ]
    },
    {
      "cell_type": "markdown",
      "source": [
        " 4.python function which takes a positive integer and returns the sum of the cube of all positive integers smaller than that"
      ],
      "metadata": {
        "id": "NnhjSsoYQnS1"
      }
    },
    {
      "cell_type": "code",
      "source": [
        "def sum_of_cubes(n):\n",
        "  n= n-1\n",
        "  total = 0\n",
        "  while n > 0:\n",
        "     total += n * n * n\n",
        "     n -=1\n",
        "  return total\n",
        "print(\"sum of the cube of smaller number than given number=\",sum_of_cubes(4))"
      ],
      "metadata": {
        "colab": {
          "base_uri": "https://localhost:8080/"
        },
        "id": "VTJ4RvwwSSM1",
        "outputId": "b752eb03-935a-4ea6-afd8-d7e4444db34a"
      },
      "execution_count": null,
      "outputs": [
        {
          "output_type": "stream",
          "name": "stdout",
          "text": [
            "sum of the cube of smaller number than given number= 36\n"
          ]
        }
      ]
    },
    {
      "cell_type": "markdown",
      "source": [
        "5.Write a Python program which iterates from 1 to 10. For multiples of 2,\n",
        "print “Fizz” instead of the number and for the multiples of 5, print “Buzz”.\n",
        "For numbers which are multiples of both 2 and 5, print “FizzBuzz”.\n",
        "Sample input: numbers from 1 to 10 Sample output: 1 Fizz 3 Fizz Buzz\n",
        "Fizz 7 Fizz 9 FizzBuzz"
      ],
      "metadata": {
        "id": "X32nSkAZZhrO"
      }
    },
    {
      "cell_type": "code",
      "source": [
        "for i in range(1,11):\n",
        "\n",
        "  if i%2 == 0 and i%5 == 0:\n",
        "    print(\"fizzbuzz\")\n",
        "  elif i%2 == 0:\n",
        "      print(\"fizz\")\n",
        "  elif i%5 == 0:\n",
        "      print(\"buzz\")\n",
        "  else:\n",
        "      print(i)\n",
        "\n"
      ],
      "metadata": {
        "colab": {
          "base_uri": "https://localhost:8080/"
        },
        "id": "rwKx8BnsaV_T",
        "outputId": "a5524785-82d2-465c-f314-96655679c135"
      },
      "execution_count": null,
      "outputs": [
        {
          "output_type": "stream",
          "name": "stdout",
          "text": [
            "1\n",
            "fizz\n",
            "3\n",
            "fizz\n",
            "buzz\n",
            "fizz\n",
            "7\n",
            "fizz\n",
            "9\n",
            "fizzbuzz\n"
          ]
        }
      ]
    },
    {
      "cell_type": "code",
      "source": [],
      "metadata": {
        "id": "c9Ad6-T9ZgxV"
      },
      "execution_count": null,
      "outputs": []
    },
    {
      "cell_type": "markdown",
      "source": [
        "6. Write a Python program to find the most frequent item in a list of\n",
        "numbers. Sample input: 2, 3, 4, 2, 5, 2 Sample output: 2\n"
      ],
      "metadata": {
        "id": "7hE27I8d3D-y"
      }
    },
    {
      "cell_type": "code",
      "source": [
        "\n",
        "def most_frequent(List):\n",
        "    return max(set(List), key = List.count)\n",
        "\n",
        "List = [2,3,4,2,5,2]\n",
        "print(most_frequent(List))"
      ],
      "metadata": {
        "colab": {
          "base_uri": "https://localhost:8080/"
        },
        "id": "ONeNGNBB3dl1",
        "outputId": "776ae270-a45c-489a-829d-b7f990b6c20d"
      },
      "execution_count": 50,
      "outputs": [
        {
          "output_type": "stream",
          "name": "stdout",
          "text": [
            "2\n"
          ]
        }
      ]
    },
    {
      "cell_type": "markdown",
      "source": [
        "7. Write a Python program to find the sum of squares of the numbers in a\n",
        "list. Sample input: 2,1,3,1 Sample output: 15"
      ],
      "metadata": {
        "id": "MAYQcZyi5dbs"
      }
    },
    {
      "cell_type": "code",
      "source": [
        "import numpy as np\n",
        "test_list = np.array([2,1,3,1])\n",
        "result = np.sum(np.square(test_list))\n",
        "print(result)\n"
      ],
      "metadata": {
        "colab": {
          "base_uri": "https://localhost:8080/"
        },
        "id": "wy3v6b2t7HuG",
        "outputId": "92d53b30-a208-49dc-9c20-884a4c2a558d"
      },
      "execution_count": null,
      "outputs": [
        {
          "output_type": "stream",
          "name": "stdout",
          "text": [
            "15\n"
          ]
        }
      ]
    },
    {
      "cell_type": "markdown",
      "source": [
        "8. Write a Python program using for loop that will iterate from 1 to 15. For\n",
        "each iteration, check if the current number is odd or even, and display the\n",
        "message to the screen as odd or even. Sample input: 1….15 Sample\n",
        "output: 1-odd 2-even …. 15-odd"
      ],
      "metadata": {
        "id": "neZxN4SZ-rPO"
      }
    },
    {
      "cell_type": "code",
      "source": [
        "for i in range(1,16):\n",
        "  if i % 2 == 0:\n",
        "    print(i,\"is even\")\n",
        "  else:\n",
        "     print(i,\"is odd\")"
      ],
      "metadata": {
        "colab": {
          "base_uri": "https://localhost:8080/"
        },
        "id": "wIaIsQdQ-umw",
        "outputId": "90034680-a8fb-4f4c-e837-bdc7919277f5"
      },
      "execution_count": null,
      "outputs": [
        {
          "output_type": "stream",
          "name": "stdout",
          "text": [
            "1 is odd\n",
            "2 is even\n",
            "3 is odd\n",
            "4 is even\n",
            "5 is odd\n",
            "6 is even\n",
            "7 is odd\n",
            "8 is even\n",
            "9 is odd\n",
            "10 is even\n",
            "11 is odd\n",
            "12 is even\n",
            "13 is odd\n",
            "14 is even\n",
            "15 is odd\n"
          ]
        }
      ]
    },
    {
      "cell_type": "markdown",
      "source": [
        "9. Write a Python program to convert temperatures to and from Celsius\n",
        "Fahrenheit. [Formula: c/5=f-32/9 where c=temperature in Celsius and f=\n",
        "temperature in Fahrenheit.] Sample input: Temperature in Fahrenheit\n",
        "=41 Sample output: Temperature in Celsius =5\n"
      ],
      "metadata": {
        "id": "MpSA-__DBtR2"
      }
    },
    {
      "cell_type": "code",
      "source": [
        "f = float(input(\"Enter temperature in f: \"))\n",
        "c = (f - 32) * 5/9\n",
        "print(c,\"C\")"
      ],
      "metadata": {
        "colab": {
          "base_uri": "https://localhost:8080/"
        },
        "id": "OsmNr8L_95AF",
        "outputId": "4d02616d-8ed5-4c2a-8de8-94e9a017305f"
      },
      "execution_count": 49,
      "outputs": [
        {
          "output_type": "stream",
          "name": "stdout",
          "text": [
            "Enter temperature in f: 41\n",
            "5.0 C\n"
          ]
        }
      ]
    },
    {
      "cell_type": "markdown",
      "source": [
        "10. Write a Python function to calculate the factorial of a number (a\n",
        "nonnegative integer). The function accepts the number as an argument.\n",
        "Sample input: 3 Sample output: 6"
      ],
      "metadata": {
        "id": "pMgJjx5ED6us"
      }
    },
    {
      "cell_type": "code",
      "source": [
        "def factorial(n):\n",
        "    p=1\n",
        "    i=1\n",
        "    while i<=n:\n",
        "       p= p*i\n",
        "       i+=1\n",
        "    return p\n",
        "factorial(3)\n",
        "\n",
        "\n",
        "\n",
        "\n"
      ],
      "metadata": {
        "colab": {
          "base_uri": "https://localhost:8080/"
        },
        "id": "xVkSd4uHD85F",
        "outputId": "02528853-3537-4f35-91e1-c0e66728caa2"
      },
      "execution_count": null,
      "outputs": [
        {
          "output_type": "execute_result",
          "data": {
            "text/plain": [
              "6"
            ]
          },
          "metadata": {},
          "execution_count": 22
        }
      ]
    }
  ]
}